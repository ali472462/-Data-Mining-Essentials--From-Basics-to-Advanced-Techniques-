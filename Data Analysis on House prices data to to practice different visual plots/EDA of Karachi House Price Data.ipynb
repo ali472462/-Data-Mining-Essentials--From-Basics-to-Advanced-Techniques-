{
 "cells": [
  {
   "cell_type": "markdown",
   "metadata": {},
   "source": [
    "# 1.0 About Author\n",
    "- Project: Karachi House Prices EDA\n",
    "- Author: Ali Hassan\n",
    "- Author's Contact Info:\\\n",
    "<!DOCTYPE html>\n",
    "<html lang=\"en\">\n",
    "<head>\n",
    "    <meta charset=\"UTF-8\">\n",
    "    <meta name=\"viewport\" content=\"width=device-width, initial-scale=1.0\">\n",
    "    <title>Azam Bukhari</title>\n",
    "    <link rel=\"stylesheet\" href=\"https://cdnjs.cloudflare.com/ajax/libs/font-awesome/5.15.3/css/all.min.css\">\n",
    "</head>\n",
    "<body>\n",
    "    <a href=\"mailto:ahcomsian.developer@gmail.com\"><i class=\"fas fa-envelope\"></i> Email</a>\n",
    "    <a href=\"https://github.com/AzamBukhari\"><i class=\"fab fa-github\"></i> Github</a>\n",
    "    <a href=\"https://www.kaggle.com/azambukhari\"><i class=\"fas fa-chart-line\"></i> Kaggle</a>\n",
    "    <a href=\"https://www.linkedin.com/in/azambukhari\"><i class=\"fab fa-linkedin\"></i> Linkedin</a>\n",
    "    <a href=\"https://twitter.com/AzamBukhari1\"><i class=\"fab fa-twitter\"></i> Twitter</a>\n",
    "    <a href=\"https://medium.com/@azam.bukhari\"><i class=\"fab fa-medium\"></i> Medium</a>\n",
    "</body>\n",
    "</html>"
   ]
  },
  {
   "cell_type": "markdown",
   "metadata": {},
   "source": [
    "## 2.0 About Data: \n",
    "| Data       | Karachi House Prices           |\n",
    "|------------|--------------------------|\n",
    "| Data Age   | October 2021             |\n",
    "| Dataset    | [link](https://www.kaggle.com/datasets/gauthamp10/apple-appstore-apps) |\n",
    "\n",
    "### 2.1 Content:\n",
    "<p>This data is about house prices in Karachi, Pakistan. It provides information about the addresses, prices, number of bedrooms and bathrooms, and areas in square yards of the houses. This data frame likely consists of several columns and numerous rows.</p>\n",
    "\n",
    "<table> <thead> <tr> <th>Column Name</th> <th>Description</th> <th>Data Type (if known)</th> </tr> </thead> <tbody> <tr> <td>Unnamed: 0 (Optional)</td> <td>Might be an index and not relevant for analysis</td> <td>Integer (int64)</td> </tr> <tr> <td>Address</td> <td>Full address of the house</td> <td>Text (object)</td> </tr> <tr> <td>Price</td> <td>Price of the house</td> <td>Float (float64)</td> </tr> <tr> <td>NoOfBedrooms</td> <td>Number of bedrooms in the house</td> <td>Float (float64)</td> </tr> <tr> <td>NoOfBathrooms</td> <td>Number of bathrooms in the house</td> <td>Float (float64)</td> </tr> <tr> <td>AreaSqYards</td> <td>Area of the house in square yards</td> <td>Integer (int64)</td> </tr> </tbody> </table>\n",
    "\n",
    "\n",
    "###  <h3>2.2 Jupyter Notebook:</h3>\n",
    "| Language   | Python        |\n",
    "|------------|----------------|\n",
    "| Framework  | Pandas, Numpy |\n",
    "\n",
    "\n",
    "### 2.3 Task:\n",
    "We intend to conduct an Exploratory Data Analysis (EDA) on the given dataset. The EDA will serve as the basis for the necessary Data Wrangling activities to be carried out for the purposes of data cleaning and normalization. During the coding process, we will document our observations. Ultimately, we will produce a summary and draw conclusions from our findings\n",
    "\n",
    "### 2.4 Objectives:\n",
    " <b>Understanding the Karachi Housing Market:</b>\n",
    "- Price Distribution:<br>\n",
    "    - Analyze the distribution of house prices in Karachi. Identify the central tendency (average, median), spread (standard deviation), and potential presence of outliers. This will reveal the overall price range and any extreme values that might require further investigation.\n",
    "- Feature Relationships: \n",
    "  - Explore potential relationships between features like area, number of bedrooms/bathrooms, and price. Use visualizations (scatter plots) to identify trends. Are larger houses generally more expensive? Do houses with more bedrooms or bathrooms command higher prices?\n",
    "\n",
    "<b>Data Quality Assessment:</b>\n",
    "- Outlier Detection:\n",
    "    - Identify and investigate potential outliers in terms of price or area. Are there houses with exceptionally high or low prices compared to their area or other features? This can indicate data entry errors or unique properties requiring further examination.\n",
    "- Missing Values:\n",
    "    - Check if there are any missing values in the data. If so, understand the extent and distribution of missingness. Depending on the context, you might decide to impute missing values (estimate them) or remove rows with missing data.\n",
    "\n",
    "### 2.5 Kernel Version Used:\n",
    "- Python 3.12.1\n"
   ]
  },
  {
   "cell_type": "markdown",
   "metadata": {},
   "source": [
    "## 3.0 *Import Libraries*\n",
    "- We will use the follwoing libraries\n",
    " \n",
    "| Library | Description |\n",
    "| --- | --- |\n",
    "| Pandas | - Data manipulation (loading, cleaning, transforming) |\n",
    "| Matplotlib | - Creating various visualizations (scatter plots, histograms) |\n",
    "| Seaborn | - Creating more visually appealing and statistically informative visualizations |\n"
   ]
  },
  {
   "cell_type": "code",
   "execution_count": 2,
   "metadata": {},
   "outputs": [],
   "source": [
    "import pandas as pd\n",
    "\n",
    "# visualization libraries\n",
    "import matplotlib.pyplot as plt\n",
    "import seaborn as sns\n",
    "%matplotlib inline"
   ]
  },
  {
   "cell_type": "markdown",
   "metadata": {},
   "source": [
    "## 4.0  Data Loading, Exploration & Wrangling\n",
    "\n",
    "We will proceed as follow:\n",
    "### 4.1 Load the csv file with the pandas"
   ]
  },
  {
   "cell_type": "code",
   "execution_count": 3,
   "metadata": {},
   "outputs": [],
   "source": [
    "# Let's load the data using pandas\n",
    "df = pd.read_csv(\"../Data Sets/Karachi House Prices.csv\")"
   ]
  },
  {
   "cell_type": "markdown",
   "metadata": {},
   "source": [
    "### 4.2 Analysing & describing the dataset\n",
    "\n",
    "This code snippet helps you get a complete overview of your data by adjusting a key display setting in Pandas. By setting the option to show all columns, you can ensure that no valuable information is overlooked when working with dataframes. Whether you're exploring data, conducting analyses or simply trying to get a better sense of your data, this simple line of code can make a big difference."
   ]
  },
  {
   "cell_type": "code",
   "execution_count": 4,
   "metadata": {},
   "outputs": [],
   "source": [
    "pd.set_option('display.max_columns', None)"
   ]
  },
  {
   "cell_type": "markdown",
   "metadata": {},
   "source": [
    "### 4.5 Get a sneak peek of your data \n",
    "With just a single line of code! Quickly view the top rows of your dataset to get a sense of what you're working with, without having to scroll through the entire file."
   ]
  },
  {
   "cell_type": "code",
   "execution_count": 5,
   "metadata": {},
   "outputs": [
    {
     "data": {
      "text/html": [
       "<div>\n",
       "<style scoped>\n",
       "    .dataframe tbody tr th:only-of-type {\n",
       "        vertical-align: middle;\n",
       "    }\n",
       "\n",
       "    .dataframe tbody tr th {\n",
       "        vertical-align: top;\n",
       "    }\n",
       "\n",
       "    .dataframe thead th {\n",
       "        text-align: right;\n",
       "    }\n",
       "</style>\n",
       "<table border=\"1\" class=\"dataframe\">\n",
       "  <thead>\n",
       "    <tr style=\"text-align: right;\">\n",
       "      <th></th>\n",
       "      <th>Unnamed: 0</th>\n",
       "      <th>Address</th>\n",
       "      <th>Price</th>\n",
       "      <th>NoOfBedrooms</th>\n",
       "      <th>NoOfBathrooms</th>\n",
       "      <th>AreaSqYards</th>\n",
       "    </tr>\n",
       "  </thead>\n",
       "  <tbody>\n",
       "    <tr>\n",
       "      <th>0</th>\n",
       "      <td>0</td>\n",
       "      <td>Bahria Town Karachi, Karachi</td>\n",
       "      <td>4200000.0</td>\n",
       "      <td>1.0</td>\n",
       "      <td>1.0</td>\n",
       "      <td>60</td>\n",
       "    </tr>\n",
       "    <tr>\n",
       "      <th>1</th>\n",
       "      <td>1</td>\n",
       "      <td>Bahria Town - Precinct 17, Bahria Town Karachi</td>\n",
       "      <td>5900000.0</td>\n",
       "      <td>2.0</td>\n",
       "      <td>2.0</td>\n",
       "      <td>161</td>\n",
       "    </tr>\n",
       "    <tr>\n",
       "      <th>2</th>\n",
       "      <td>2</td>\n",
       "      <td>Bahria Paradise, Bahria Town Karachi</td>\n",
       "      <td>42000000.0</td>\n",
       "      <td>5.0</td>\n",
       "      <td>5.0</td>\n",
       "      <td>500</td>\n",
       "    </tr>\n",
       "    <tr>\n",
       "      <th>3</th>\n",
       "      <td>3</td>\n",
       "      <td>Askari 5 - Sector J, Askari 5</td>\n",
       "      <td>37500000.0</td>\n",
       "      <td>3.0</td>\n",
       "      <td>3.0</td>\n",
       "      <td>300</td>\n",
       "    </tr>\n",
       "    <tr>\n",
       "      <th>4</th>\n",
       "      <td>4</td>\n",
       "      <td>Bahria Town - Precinct 35, Bahria Sports City</td>\n",
       "      <td>21000000.0</td>\n",
       "      <td>4.0</td>\n",
       "      <td>4.0</td>\n",
       "      <td>350</td>\n",
       "    </tr>\n",
       "  </tbody>\n",
       "</table>\n",
       "</div>"
      ],
      "text/plain": [
       "   Unnamed: 0                                         Address       Price  \\\n",
       "0           0                    Bahria Town Karachi, Karachi   4200000.0   \n",
       "1           1  Bahria Town - Precinct 17, Bahria Town Karachi   5900000.0   \n",
       "2           2            Bahria Paradise, Bahria Town Karachi  42000000.0   \n",
       "3           3                   Askari 5 - Sector J, Askari 5  37500000.0   \n",
       "4           4   Bahria Town - Precinct 35, Bahria Sports City  21000000.0   \n",
       "\n",
       "   NoOfBedrooms  NoOfBathrooms  AreaSqYards  \n",
       "0           1.0            1.0           60  \n",
       "1           2.0            2.0          161  \n",
       "2           5.0            5.0          500  \n",
       "3           3.0            3.0          300  \n",
       "4           4.0            4.0          350  "
      ]
     },
     "execution_count": 5,
     "metadata": {},
     "output_type": "execute_result"
    }
   ],
   "source": [
    "df.head(5)"
   ]
  },
  {
   "cell_type": "markdown",
   "metadata": {},
   "source": [
    "### 4.6 View the column names"
   ]
  },
  {
   "cell_type": "code",
   "execution_count": 6,
   "metadata": {},
   "outputs": [
    {
     "name": "stdout",
     "output_type": "stream",
     "text": [
      "['Unnamed: 0' 'Address' 'Price' 'NoOfBedrooms' 'NoOfBathrooms'\n",
      " 'AreaSqYards']\n"
     ]
    }
   ],
   "source": [
    "#View the column names, alternatively we can also use df.columns\n",
    "print(df.columns.values)"
   ]
  },
  {
   "cell_type": "markdown",
   "metadata": {},
   "source": [
    "### 4.7 View the shape of the dataset"
   ]
  },
  {
   "cell_type": "code",
   "execution_count": 7,
   "metadata": {},
   "outputs": [
    {
     "name": "stdout",
     "output_type": "stream",
     "text": [
      "The dataframe has 16849 rows and 6 columns\n"
     ]
    }
   ],
   "source": [
    "#view the shape of the data, number of rows & columns\n",
    "print(f\"The dataframe has {df.shape[0]} rows and {df.shape[1]} columns\")"
   ]
  },
  {
   "cell_type": "code",
   "execution_count": 8,
   "metadata": {},
   "outputs": [
    {
     "name": "stdout",
     "output_type": "stream",
     "text": [
      "<class 'pandas.core.frame.DataFrame'>\n",
      "RangeIndex: 16849 entries, 0 to 16848\n",
      "Data columns (total 6 columns):\n",
      " #   Column         Non-Null Count  Dtype  \n",
      "---  ------         --------------  -----  \n",
      " 0   Unnamed: 0     16849 non-null  int64  \n",
      " 1   Address        16849 non-null  object \n",
      " 2   Price          16849 non-null  float64\n",
      " 3   NoOfBedrooms   16849 non-null  float64\n",
      " 4   NoOfBathrooms  16849 non-null  float64\n",
      " 5   AreaSqYards    16849 non-null  int64  \n",
      "dtypes: float64(3), int64(2), object(1)\n",
      "memory usage: 789.9+ KB\n"
     ]
    }
   ],
   "source": [
    "df.info()"
   ]
  },
  {
   "cell_type": "markdown",
   "metadata": {},
   "source": [
    "### 4.8 Descriptive Statistics\n",
    "We use descriptive statistics to summarize and understand the key features of dataset."
   ]
  },
  {
   "cell_type": "code",
   "execution_count": 9,
   "metadata": {},
   "outputs": [
    {
     "data": {
      "text/html": [
       "<div>\n",
       "<style scoped>\n",
       "    .dataframe tbody tr th:only-of-type {\n",
       "        vertical-align: middle;\n",
       "    }\n",
       "\n",
       "    .dataframe tbody tr th {\n",
       "        vertical-align: top;\n",
       "    }\n",
       "\n",
       "    .dataframe thead th {\n",
       "        text-align: right;\n",
       "    }\n",
       "</style>\n",
       "<table border=\"1\" class=\"dataframe\">\n",
       "  <thead>\n",
       "    <tr style=\"text-align: right;\">\n",
       "      <th></th>\n",
       "      <th>Unnamed: 0</th>\n",
       "      <th>Price</th>\n",
       "      <th>NoOfBedrooms</th>\n",
       "      <th>NoOfBathrooms</th>\n",
       "      <th>AreaSqYards</th>\n",
       "    </tr>\n",
       "  </thead>\n",
       "  <tbody>\n",
       "    <tr>\n",
       "      <th>count</th>\n",
       "      <td>16849.000000</td>\n",
       "      <td>1.684900e+04</td>\n",
       "      <td>16849.000000</td>\n",
       "      <td>16849.00000</td>\n",
       "      <td>16849.000000</td>\n",
       "    </tr>\n",
       "    <tr>\n",
       "      <th>mean</th>\n",
       "      <td>9628.345480</td>\n",
       "      <td>3.914858e+07</td>\n",
       "      <td>3.599442</td>\n",
       "      <td>3.73856</td>\n",
       "      <td>238.193958</td>\n",
       "    </tr>\n",
       "    <tr>\n",
       "      <th>std</th>\n",
       "      <td>5673.676533</td>\n",
       "      <td>3.657066e+07</td>\n",
       "      <td>1.439704</td>\n",
       "      <td>1.46110</td>\n",
       "      <td>137.991019</td>\n",
       "    </tr>\n",
       "    <tr>\n",
       "      <th>min</th>\n",
       "      <td>0.000000</td>\n",
       "      <td>7.000000e+05</td>\n",
       "      <td>1.000000</td>\n",
       "      <td>1.00000</td>\n",
       "      <td>33.000000</td>\n",
       "    </tr>\n",
       "    <tr>\n",
       "      <th>25%</th>\n",
       "      <td>4670.000000</td>\n",
       "      <td>1.350000e+07</td>\n",
       "      <td>3.000000</td>\n",
       "      <td>3.00000</td>\n",
       "      <td>122.000000</td>\n",
       "    </tr>\n",
       "    <tr>\n",
       "      <th>50%</th>\n",
       "      <td>9578.000000</td>\n",
       "      <td>2.600000e+07</td>\n",
       "      <td>3.000000</td>\n",
       "      <td>3.00000</td>\n",
       "      <td>200.000000</td>\n",
       "    </tr>\n",
       "    <tr>\n",
       "      <th>75%</th>\n",
       "      <td>14574.000000</td>\n",
       "      <td>5.800000e+07</td>\n",
       "      <td>5.000000</td>\n",
       "      <td>5.00000</td>\n",
       "      <td>311.000000</td>\n",
       "    </tr>\n",
       "    <tr>\n",
       "      <th>max</th>\n",
       "      <td>19449.000000</td>\n",
       "      <td>4.000000e+08</td>\n",
       "      <td>11.000000</td>\n",
       "      <td>10.00000</td>\n",
       "      <td>993.000000</td>\n",
       "    </tr>\n",
       "  </tbody>\n",
       "</table>\n",
       "</div>"
      ],
      "text/plain": [
       "         Unnamed: 0         Price  NoOfBedrooms  NoOfBathrooms   AreaSqYards\n",
       "count  16849.000000  1.684900e+04  16849.000000    16849.00000  16849.000000\n",
       "mean    9628.345480  3.914858e+07      3.599442        3.73856    238.193958\n",
       "std     5673.676533  3.657066e+07      1.439704        1.46110    137.991019\n",
       "min        0.000000  7.000000e+05      1.000000        1.00000     33.000000\n",
       "25%     4670.000000  1.350000e+07      3.000000        3.00000    122.000000\n",
       "50%     9578.000000  2.600000e+07      3.000000        3.00000    200.000000\n",
       "75%    14574.000000  5.800000e+07      5.000000        5.00000    311.000000\n",
       "max    19449.000000  4.000000e+08     11.000000       10.00000    993.000000"
      ]
     },
     "execution_count": 9,
     "metadata": {},
     "output_type": "execute_result"
    }
   ],
   "source": [
    "df.describe()"
   ]
  },
  {
   "cell_type": "markdown",
   "metadata": {},
   "source": [
    "## General Observations\n",
    "\n",
    "**Number of Rows:**\n",
    "\n",
    "You have 16,849 rows in your data, which represents a good sample size for conducting an Exploratory Data Analysis (EDA).\n",
    "\n",
    "**Missing Values:**\n",
    "\n",
    "It appears there are no missing values (count for all columns is 16,849) which is a positive aspect for initial analysis. However, it's always good practice to double-check for missing values using `df.isnull().sum()`.\n"
   ]
  },
  {
   "cell_type": "markdown",
   "metadata": {},
   "source": [
    "### 4.9 Lets First Remove the \"Unnamed: 0\" column from the dataframe, which is often an index column that is not relevant to the analysis."
   ]
  },
  {
   "cell_type": "code",
   "execution_count": 10,
   "metadata": {},
   "outputs": [],
   "source": [
    "#lets remove the unnamed column\n",
    "df = df.drop(['Unnamed: 0'], axis = 1)"
   ]
  },
  {
   "cell_type": "markdown",
   "metadata": {},
   "source": [
    "### 4.10 Missing values in the data"
   ]
  },
  {
   "cell_type": "code",
   "execution_count": 15,
   "metadata": {},
   "outputs": [
    {
     "data": {
      "text/plain": [
       "Address          0\n",
       "Price            0\n",
       "NoOfBedrooms     0\n",
       "NoOfBathrooms    0\n",
       "AreaSqYards      0\n",
       "dtype: int64"
      ]
     },
     "execution_count": 15,
     "metadata": {},
     "output_type": "execute_result"
    }
   ],
   "source": [
    "df.isnull().sum().sort_values(ascending = False)"
   ]
  },
  {
   "cell_type": "markdown",
   "metadata": {},
   "source": [
    "#### Milestone 1: As there are no missing values lets move on"
   ]
  },
  {
   "cell_type": "markdown",
   "metadata": {},
   "source": []
  },
  {
   "cell_type": "code",
   "execution_count": 16,
   "metadata": {},
   "outputs": [
    {
     "data": {
      "text/plain": [
       "True"
      ]
     },
     "execution_count": 16,
     "metadata": {},
     "output_type": "execute_result"
    }
   ],
   "source": [
    "df.duplicated().any()"
   ]
  },
  {
   "cell_type": "markdown",
   "metadata": {},
   "source": [
    "### Let's focus on the first step of our proper EDA - visualizing the distribution of a key feature: price."
   ]
  },
  {
   "cell_type": "code",
   "execution_count": 16,
   "metadata": {},
   "outputs": [
    {
     "data": {
      "image/png": "[encoded data removed]",
      "text/plain": [
       "<Figure size 1000x600 with 1 Axes>"
      ]
     },
     "metadata": {},
     "output_type": "display_data"
    }
   ],
   "source": [
    "\n",
    "# Assuming your DataFrame is still named 'df'\n",
    "plt.figure(figsize=(10, 6))  # Adjust figure size as needed\n",
    "plt.hist(df['Price'])\n",
    "plt.xlabel('Price (₹)')\n",
    "plt.ylabel('Number of Houses')\n",
    "plt.title('Distribution of House Prices in Karachi')\n",
    "plt.grid(True)\n",
    "plt.show()"
   ]
  }
 ],
 "metadata": {
  "kernelspec": {
   "display_name": "python_ml",
   "language": "python",
   "name": "python3"
  },
  "language_info": {
   "codemirror_mode": {
    "name": "ipython",
    "version": 3
   },
   "file_extension": ".py",
   "mimetype": "text/x-python",
   "name": "python",
   "nbconvert_exporter": "python",
   "pygments_lexer": "ipython3",
   "version": "3.12.1"
  }
 },
 "nbformat": 4,
 "nbformat_minor": 2
}
