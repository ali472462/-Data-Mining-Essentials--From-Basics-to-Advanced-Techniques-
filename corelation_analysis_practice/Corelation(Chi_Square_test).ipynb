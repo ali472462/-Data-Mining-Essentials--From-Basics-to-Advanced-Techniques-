{
 "cells": [
  {
   "cell_type": "markdown",
   "metadata": {},
   "source": [
    "## Chi-square analysis (Corelation)"
   ]
  },
  {
   "cell_type": "markdown",
   "metadata": {},
   "source": [
    "### 1. Import Libraries"
   ]
  },
  {
   "cell_type": "code",
   "execution_count": 2,
   "metadata": {},
   "outputs": [],
   "source": [
    "import pandas as pd\n",
    "import scipy as sci\n",
    "from scipy import stats"
   ]
  },
  {
   "cell_type": "markdown",
   "metadata": {},
   "source": [
    "### 2. Categorical Data Example:\n",
    "- Imagine we have data on customer Product satisfaction (Satisfied, Neutral, Dissatisfied) and their age group (20-30, 31-40, 41-50)."
   ]
  },
  {
   "cell_type": "code",
   "execution_count": 9,
   "metadata": {},
   "outputs": [
    {
     "data": {
      "text/html": [
       "<div>\n",
       "<style scoped>\n",
       "    .dataframe tbody tr th:only-of-type {\n",
       "        vertical-align: middle;\n",
       "    }\n",
       "\n",
       "    .dataframe tbody tr th {\n",
       "        vertical-align: top;\n",
       "    }\n",
       "\n",
       "    .dataframe thead th {\n",
       "        text-align: right;\n",
       "    }\n",
       "</style>\n",
       "<table border=\"1\" class=\"dataframe\">\n",
       "  <thead>\n",
       "    <tr style=\"text-align: right;\">\n",
       "      <th></th>\n",
       "      <th>Satisfaction</th>\n",
       "      <th>Age Group</th>\n",
       "    </tr>\n",
       "  </thead>\n",
       "  <tbody>\n",
       "    <tr>\n",
       "      <th>0</th>\n",
       "      <td>Satisfied</td>\n",
       "      <td>20-30</td>\n",
       "    </tr>\n",
       "    <tr>\n",
       "      <th>1</th>\n",
       "      <td>Neutral</td>\n",
       "      <td>31-40</td>\n",
       "    </tr>\n",
       "    <tr>\n",
       "      <th>2</th>\n",
       "      <td>Dissatisfied</td>\n",
       "      <td>41-50</td>\n",
       "    </tr>\n",
       "    <tr>\n",
       "      <th>3</th>\n",
       "      <td>Satisfied</td>\n",
       "      <td>51-60</td>\n",
       "    </tr>\n",
       "    <tr>\n",
       "      <th>4</th>\n",
       "      <td>Dissatisfied</td>\n",
       "      <td>61-70</td>\n",
       "    </tr>\n",
       "  </tbody>\n",
       "</table>\n",
       "</div>"
      ],
      "text/plain": [
       "   Satisfaction Age Group\n",
       "0     Satisfied     20-30\n",
       "1       Neutral     31-40\n",
       "2  Dissatisfied     41-50\n",
       "3     Satisfied     51-60\n",
       "4  Dissatisfied     61-70"
      ]
     },
     "execution_count": 9,
     "metadata": {},
     "output_type": "execute_result"
    }
   ],
   "source": [
    "# Sample data (categorical)\n",
    "data = {'Satisfaction': ['Satisfied', 'Neutral', 'Dissatisfied', 'Satisfied', 'Dissatisfied'],\n",
    "        'Age Group': ['20-30', '31-40', '41-50', '51-60', '61-70']}\n",
    "\n",
    "# Create pandas DataFrame\n",
    "df = pd.DataFrame(data)\n",
    "df"
   ]
  },
  {
   "cell_type": "markdown",
   "metadata": {},
   "source": [
    "### 3. Contingency Table:\n",
    "- We can create a contingency table to see the distribution of satisfaction across different age groups."
   ]
  },
  {
   "cell_type": "code",
   "execution_count": 10,
   "metadata": {},
   "outputs": [
    {
     "name": "stdout",
     "output_type": "stream",
     "text": [
      "Age Group     20-30  31-40  41-50  51-60  61-70\n",
      "Satisfaction                                   \n",
      "Dissatisfied      0      0      1      0      1\n",
      "Neutral           0      1      0      0      0\n",
      "Satisfied         1      0      0      1      0\n"
     ]
    }
   ],
   "source": [
    "contingency_table = pd.crosstab(df['Satisfaction'], df['Age Group'])\n",
    "print(contingency_table)"
   ]
  },
  {
   "cell_type": "markdown",
   "metadata": {},
   "source": [
    "This will print a table showing the number of customers in each satisfaction category for each age group."
   ]
  },
  {
   "cell_type": "markdown",
   "metadata": {},
   "source": [
    "### 4. Chi-Square Test (using SciPy):\n",
    "- From scratch, calculating chi-square can be complex. We'll leverage scipy.stats.chi2_contingency for convenience."
   ]
  },
  {
   "cell_type": "code",
   "execution_count": 13,
   "metadata": {},
   "outputs": [
    {
     "name": "stdout",
     "output_type": "stream",
     "text": [
      "Chi-Square Statistic: 10.000000000000004\n",
      "p-value: 0.2650259152973615\n"
     ]
    }
   ],
   "source": [
    "# Perform chi-square test\n",
    "chi2_statistic, p_value, expected_frequency, observed_frequency = stats.chi2_contingency(contingency_table.values)\n",
    "\n",
    "# Print results\n",
    "print(\"Chi-Square Statistic:\", chi2_statistic)\n",
    "print(\"p-value:\", p_value)\n"
   ]
  },
  {
   "cell_type": "markdown",
   "metadata": {},
   "source": [
    "### Chi-Square Test Results:\n",
    "\n",
    "- The chi-square test statistic is 10.0000, and the p-value is 0.2650.\n",
    "\n",
    "  - Chi-Square Statistic (10.0000): While not a definitive measure, a higher chi-square statistic suggests a stronger difference between the observed and expected frequencies. In this case, 10 indicates some difference, but it might not be substantial.\n",
    "  - p-value (0.2650): This p-value is greater than the commonly used significance level of 0.05. A higher p-value suggests that the observed difference between expected and observed frequencies could be due to random chance.\n",
    "\n",
    "#### Conclusion:\n",
    "\n",
    "- Based on these results, there's not enough evidence to reject the null hypothesis. In other words, there's no strong indication of a statistically significant association between satisfaction level and age group in your sample data.\n",
    "\n",
    "#### Important Considerations:\n",
    "\n",
    "- This analysis is based on a small sample size (5 data points). Chi-square tests can be unreliable with small samples.\n",
    "- The chi-square test is sensitive to expected cell counts. If some expected counts are very low, the test might not be reliable."
   ]
  }
 ],
 "metadata": {
  "kernelspec": {
   "display_name": "python_ml",
   "language": "python",
   "name": "python3"
  },
  "language_info": {
   "codemirror_mode": {
    "name": "ipython",
    "version": 3
   },
   "file_extension": ".py",
   "mimetype": "text/x-python",
   "name": "python",
   "nbconvert_exporter": "python",
   "pygments_lexer": "ipython3",
   "version": "3.12.1"
  }
 },
 "nbformat": 4,
 "nbformat_minor": 2
}
